{
  "nbformat": 4,
  "nbformat_minor": 0,
  "metadata": {
    "colab": {
      "provenance": [],
      "authorship_tag": "ABX9TyMrpzPeFc9EXQhUsvhiSx/Q",
      "include_colab_link": true
    },
    "kernelspec": {
      "name": "python3",
      "display_name": "Python 3"
    },
    "language_info": {
      "name": "python"
    }
  },
  "cells": [
    {
      "cell_type": "markdown",
      "metadata": {
        "id": "view-in-github",
        "colab_type": "text"
      },
      "source": [
        "<a href=\"https://colab.research.google.com/github/Mutisya-spec/ruth_project/blob/main/Ruth_project.ipynb\" target=\"_parent\"><img src=\"https://colab.research.google.com/assets/colab-badge.svg\" alt=\"Open In Colab\"/></a>"
      ]
    },
    {
      "cell_type": "code",
      "execution_count": null,
      "metadata": {
        "colab": {
          "base_uri": "https://localhost:8080/"
        },
        "id": "EVg8ZOtfOJcl",
        "outputId": "e870dd80-b849-4492-e059-0a2a308db218"
      },
      "outputs": [
        {
          "output_type": "stream",
          "name": "stdout",
          "text": [
            "{'myvar': 'Alice', 'my_var': 30, 'myvar2': 'Kisumu'}\n"
          ]
        }
      ],
      "source": [
        "#Question 7\n",
        "myvar=\"persons name\"\n",
        "my_var=\"age\"\n",
        "myvar2=\"city\"\n",
        "x={\"myvar\":\"Alice\",\"my_var\":30,\"myvar2\":\"Kisumu\"}\n",
        "print(x)"
      ]
    },
    {
      "cell_type": "code",
      "source": [
        "x={\"myvar\":\"Alice\",\"my_var\":30,\"myvar2\":\"Kisumu\"}\n",
        "y={\"myvar\":\"Ben\",\"my_var\":25,\"myvar2\":\"Nairobi\"}\n",
        "z={\"myvar\":\"cate\",\"my_var\":15,\"myvar2\":\"Mombasa\"}\n",
        "l={\"myvar\":\"Dave\",\"my-var\":10,\"myvar2\":\"Nakuru\"}\n",
        "print(x)\n",
        "print(y)\n",
        "print(z)\n",
        "print(l)\n"
      ],
      "metadata": {
        "id": "YEz0UKHgQld2",
        "colab": {
          "base_uri": "https://localhost:8080/"
        },
        "outputId": "04f4b8d9-2dfe-4fd3-84d3-45d9a47eda5b"
      },
      "execution_count": null,
      "outputs": [
        {
          "output_type": "stream",
          "name": "stdout",
          "text": [
            "{'myvar': 'Alice', 'my_var': 30, 'myvar2': 'Kisumu'}\n",
            "{'myvar': 'Ben', 'my_var': 25, 'myvar2': 'Nairobi'}\n",
            "{'myvar': 'cate', 'my_var': 15, 'myvar2': 'Mombasa'}\n",
            "{'myvar': 'Dave', 'my-var': 10, 'myvar2': 'Nakuru'}\n"
          ]
        }
      ]
    },
    {
      "cell_type": "code",
      "source": [
        "x=[\"myvar\",\"Alice\",\"my_var\",30,\"myvar2\",\"Kisumu\"]\n",
        "y=[\"myvar\",\"Ben\",\"my_var\",25,\"myvar2\",\"Nairobi\"]\n",
        "z=[\"myvar\",\"Cate\",\"my_var\",15,\"myvar2\",\"Mombasa\"]\n",
        "l=[\"myvar\",\"Dave\",\"my_var\",10,\"myvar2\",\"Nakuru\"]\n",
        "print(x)\n",
        "print(y)\n",
        "print(z)\n",
        "print(l)"
      ],
      "metadata": {
        "colab": {
          "base_uri": "https://localhost:8080/"
        },
        "id": "nM5MlpjYnSDS",
        "outputId": "ac9c349b-da5f-4d4d-f24e-28f9da3863bb"
      },
      "execution_count": null,
      "outputs": [
        {
          "output_type": "stream",
          "name": "stdout",
          "text": [
            "['myvar', 'Alice', 'my_var', 30, 'myvar2', 'Kisumu']\n",
            "['myvar', 'Ben', 'my_var', 25, 'myvar2', 'Nairobi']\n",
            "['myvar', 'Cate', 'my_var', 15, 'myvar2', 'Mombasa']\n",
            "['myvar', 'Dave', 'my_var', 10, 'myvar2', 'Nakuru']\n"
          ]
        }
      ]
    }
  ]
}